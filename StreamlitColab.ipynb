{
  "nbformat": 4,
  "nbformat_minor": 0,
  "metadata": {
    "colab": {
      "provenance": []
    },
    "kernelspec": {
      "name": "python3",
      "display_name": "Python 3"
    },
    "language_info": {
      "name": "python"
    }
  },
  "cells": [
    {
      "cell_type": "code",
      "source": [
        "# to install all the required modules\n",
        "\n",
        "!pip install streamlit pandas datetime geonamescache openai langchain reportlab"
      ],
      "metadata": {
        "id": "sqrUnEhmmgpr"
      },
      "execution_count": 7,
      "outputs": []
    },
    {
      "cell_type": "code",
      "source": [
        "# address generation\n",
        "\n",
        "!wget -q -O - ipv4.icanhazip.com"
      ],
      "metadata": {
        "colab": {
          "base_uri": "https://localhost:8080/"
        },
        "id": "D5uuiYNUmgek",
        "outputId": "647e5f23-5038-44fc-cbad-9b84f92681bc"
      },
      "execution_count": 6,
      "outputs": [
        {
          "output_type": "stream",
          "name": "stdout",
          "text": [
            "35.199.32.202\n"
          ]
        }
      ]
    },
    {
      "cell_type": "code",
      "source": [
        "# link generation\n",
        "\n",
        "! streamlit run app.py & npx localtunnel --port 8501\n",
        "\n",
        "# click on the 'your url is' link and copy paste the above address generated"
      ],
      "metadata": {
        "colab": {
          "base_uri": "https://localhost:8080/"
        },
        "id": "WCw-uTqYmtHp",
        "outputId": "683424b3-038f-4297-c8b3-80eb812297d8"
      },
      "execution_count": 5,
      "outputs": [
        {
          "output_type": "stream",
          "name": "stdout",
          "text": [
            "\u001b[?25l[..................] / rollbackFailedOptional: verb npm-session e4b548f3cbb6f27\u001b[0m\u001b[K\r[..................] / rollbackFailedOptional: verb npm-session e4b548f3cbb6f27\u001b[0m\u001b[K\r\n",
            "Collecting usage statistics. To deactivate, set browser.gatherUsageStats to False.\n",
            "\u001b[0m\n",
            "\u001b[0m\n",
            "\u001b[34m\u001b[1m  You can now view your Streamlit app in your browser.\u001b[0m\n",
            "\u001b[0m\n",
            "\u001b[34m  Network URL: \u001b[0m\u001b[1mhttp://172.28.0.12:8501\u001b[0m\n",
            "\u001b[34m  External URL: \u001b[0m\u001b[1mhttp://35.199.32.202:8501\u001b[0m\n",
            "\u001b[0m\n",
            "\u001b[K\u001b[?25hnpx: installed 22 in 2.11s\n",
            "your url is: https://plenty-tips-punch.loca.lt\n",
            "\u001b[34m  Stopping...\u001b[0m\n",
            "^C\n"
          ]
        }
      ]
    }
  ]
}